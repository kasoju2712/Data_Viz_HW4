{
 "cells": [
  {
   "cell_type": "code",
   "execution_count": 80,
   "metadata": {},
   "outputs": [],
   "source": [
    "import numpy as np\n",
    "import pandas as pd\n",
    "import matplotlib.pyplot as plt\n",
    "import seaborn as sns"
   ]
  },
  {
   "cell_type": "markdown",
   "metadata": {},
   "source": [
    "**Problem 1**"
   ]
  },
  {
   "cell_type": "code",
   "execution_count": 81,
   "metadata": {},
   "outputs": [
    {
     "name": "stderr",
     "output_type": "stream",
     "text": [
      "/anaconda3/lib/python3.6/site-packages/IPython/core/interactiveshell.py:2785: DtypeWarning: Columns (0,3) have mixed types. Specify dtype option on import or set low_memory=False.\n",
      "  interactivity=interactivity, compiler=compiler, result=result)\n"
     ]
    }
   ],
   "source": [
    "data_fiscal=pd.read_csv(\"/Users/apoorvakasoju/Downloads/Sdf16_1a.txt\",sep=\"\\t\")\n"
   ]
  },
  {
   "cell_type": "code",
   "execution_count": 82,
   "metadata": {},
   "outputs": [],
   "source": [
    "data_fiscal_cut=data_fiscal[(data_fiscal.TFEDREV > 0)][['STNAME','LEAID',\"TFEDREV\"]]"
   ]
  },
  {
   "cell_type": "code",
   "execution_count": 83,
   "metadata": {},
   "outputs": [],
   "source": [
    "data_fiscal_cut[\"cut\"]=(data_fiscal_cut[\"TFEDREV\"]/data_fiscal['TFEDREV'].sum())*8340410870.7\n",
    "data_fiscal_cut[\"after_cut\"]=data_fiscal_cut[\"TFEDREV\"]-data_fiscal_cut[\"cut\"]\n",
    "data_fiscal_cut.sort_values(by=[\"cut\"],ascending=False,inplace=True)\n"
   ]
  },
  {
   "cell_type": "code",
   "execution_count": 85,
   "metadata": {},
   "outputs": [],
   "source": [
    "data_fiscal_cut.sort_values(by=[\"cut\"],ascending=False,inplace=True)"
   ]
  },
  {
   "cell_type": "code",
   "execution_count": 86,
   "metadata": {},
   "outputs": [
    {
     "data": {
      "text/html": [
       "<div>\n",
       "<style scoped>\n",
       "    .dataframe tbody tr th:only-of-type {\n",
       "        vertical-align: middle;\n",
       "    }\n",
       "\n",
       "    .dataframe tbody tr th {\n",
       "        vertical-align: top;\n",
       "    }\n",
       "\n",
       "    .dataframe thead th {\n",
       "        text-align: right;\n",
       "    }\n",
       "</style>\n",
       "<table border=\"1\" class=\"dataframe\">\n",
       "  <thead>\n",
       "    <tr style=\"text-align: right;\">\n",
       "      <th></th>\n",
       "      <th>STNAME</th>\n",
       "      <th>LEAID</th>\n",
       "      <th>cut</th>\n",
       "    </tr>\n",
       "  </thead>\n",
       "  <tbody>\n",
       "    <tr>\n",
       "      <th>11684</th>\n",
       "      <td>New York</td>\n",
       "      <td>3620580</td>\n",
       "      <td>260865150.0</td>\n",
       "    </tr>\n",
       "    <tr>\n",
       "      <th>1904</th>\n",
       "      <td>California</td>\n",
       "      <td>622710</td>\n",
       "      <td>163710000.0</td>\n",
       "    </tr>\n",
       "    <tr>\n",
       "      <th>3850</th>\n",
       "      <td>Illinois</td>\n",
       "      <td>1709930</td>\n",
       "      <td>118863000.0</td>\n",
       "    </tr>\n",
       "    <tr>\n",
       "      <th>3022</th>\n",
       "      <td>Florida</td>\n",
       "      <td>1200390</td>\n",
       "      <td>64727850.0</td>\n",
       "    </tr>\n",
       "    <tr>\n",
       "      <th>3038</th>\n",
       "      <td>Florida</td>\n",
       "      <td>1200870</td>\n",
       "      <td>46264050.0</td>\n",
       "    </tr>\n",
       "    <tr>\n",
       "      <th>16436</th>\n",
       "      <td>Texas</td>\n",
       "      <td>4823640</td>\n",
       "      <td>44093700.0</td>\n",
       "    </tr>\n",
       "    <tr>\n",
       "      <th>16242</th>\n",
       "      <td>Texas</td>\n",
       "      <td>4816230</td>\n",
       "      <td>43074150.0</td>\n",
       "    </tr>\n",
       "    <tr>\n",
       "      <th>3015</th>\n",
       "      <td>Florida</td>\n",
       "      <td>1200180</td>\n",
       "      <td>41743800.0</td>\n",
       "    </tr>\n",
       "    <tr>\n",
       "      <th>9784</th>\n",
       "      <td>Nevada</td>\n",
       "      <td>3200060</td>\n",
       "      <td>41644200.0</td>\n",
       "    </tr>\n",
       "    <tr>\n",
       "      <th>15038</th>\n",
       "      <td>Pennsylvania</td>\n",
       "      <td>4218990</td>\n",
       "      <td>40705350.0</td>\n",
       "    </tr>\n",
       "  </tbody>\n",
       "</table>\n",
       "</div>"
      ],
      "text/plain": [
       "             STNAME    LEAID          cut\n",
       "11684      New York  3620580  260865150.0\n",
       "1904     California   622710  163710000.0\n",
       "3850       Illinois  1709930  118863000.0\n",
       "3022        Florida  1200390   64727850.0\n",
       "3038        Florida  1200870   46264050.0\n",
       "16436         Texas  4823640   44093700.0\n",
       "16242         Texas  4816230   43074150.0\n",
       "3015        Florida  1200180   41743800.0\n",
       "9784         Nevada  3200060   41644200.0\n",
       "15038  Pennsylvania  4218990   40705350.0"
      ]
     },
     "execution_count": 86,
     "metadata": {},
     "output_type": "execute_result"
    }
   ],
   "source": [
    "data_fiscal_cut[[\"STNAME\",\"LEAID\",\"cut\"]].head(10)"
   ]
  },
  {
   "cell_type": "code",
   "execution_count": 87,
   "metadata": {},
   "outputs": [],
   "source": [
    "data_fiscal_cut_g=data_fiscal_cut.groupby('STNAME',as_index=False)['cut'].sum()\n",
    "data_fiscal_cut_g['prop']=data_fiscal_cut_g[\"cut\"]/sum(data_fiscal_cut_g[\"cut\"])"
   ]
  },
  {
   "cell_type": "code",
   "execution_count": 88,
   "metadata": {},
   "outputs": [],
   "source": [
    "data_fiscal_cut_g.sort_values(by=['prop'],inplace=True,ascending=False)"
   ]
  },
  {
   "cell_type": "code",
   "execution_count": 89,
   "metadata": {},
   "outputs": [],
   "source": [
    "def plot_bar_xy(data_fiscal_revenue,y_label,x_label,title,x_title,y_title):\n",
    "    state_labels=data_fiscal_revenue[x_label].tolist()\n",
    "    index = np.arange(len(state_labels[:10]))\n",
    "\n",
    "    plt.bar(index, data_fiscal_revenue[y_label].tolist()[:10])\n",
    "    plt.xlabel(x_title, fontsize=15)\n",
    "    plt.ylabel(y_title, fontsize=15)\n",
    "    plt.xticks(index, state_labels[:10], fontsize=10, rotation=30)\n",
    "    plt.title(title)\n",
    "    plt.show()"
   ]
  },
  {
   "cell_type": "code",
   "execution_count": 90,
   "metadata": {},
   "outputs": [
    {
     "data": {
      "image/png": "[encoded data removed]",
      "text/plain": [
       "<Figure size 432x288 with 1 Axes>"
      ]
     },
     "metadata": {},
     "output_type": "display_data"
    }
   ],
   "source": [
    "plot_bar_xy(data_fiscal_cut_g,\"prop\",'STNAME',\"Proportion of funding lost by State\",\"State\",\"Proportion of funding cut\")"
   ]
  },
  {
   "cell_type": "markdown",
   "metadata": {},
   "source": [
    "_As we can see , states such as California,Texas,New York and Florida are among top states losing funding as part of funding cut ._"
   ]
  },
  {
   "cell_type": "markdown",
   "metadata": {},
   "source": [
    "**Problem 2**"
   ]
  },
  {
   "cell_type": "code",
   "execution_count": 91,
   "metadata": {},
   "outputs": [],
   "source": [
    "data_membership=pd.read_csv(\"/Users/apoorvakasoju/Downloads/ccd_lea_052_1516_w_1a_011717.csv\",low_memory=False)"
   ]
  },
  {
   "cell_type": "code",
   "execution_count": 92,
   "metadata": {},
   "outputs": [],
   "source": [
    "data_membership_s=data_membership[(data_membership.TOTAL > 0)][['STATENAME','LEAID','TOTAL','AM', 'AS','HI', 'BL', 'WH', 'HP', 'TR']]"
   ]
  },
  {
   "cell_type": "code",
   "execution_count": 93,
   "metadata": {},
   "outputs": [],
   "source": [
    "data_membership_s['AM_PROP']=data_membership_s['AM']/data_membership_s['TOTAL']\n",
    "data_membership_s['AS_PROP']=data_membership_s['AS']/data_membership_s['TOTAL']\n",
    "data_membership_s['HI_PROP']=data_membership_s['HI']/data_membership_s['TOTAL']\n",
    "data_membership_s['BL_PROP']=data_membership_s['BL']/data_membership_s['TOTAL']\n",
    "data_membership_s['WH_PROP']=data_membership_s['WH']/data_membership_s['TOTAL']\n",
    "data_membership_s['HP_PROP']=data_membership_s['HP']/data_membership_s['TOTAL']\n",
    "data_membership_s['TR_PROP']=data_membership_s['TR']/data_membership_s['TOTAL']"
   ]
  },
  {
   "cell_type": "code",
   "execution_count": 94,
   "metadata": {},
   "outputs": [],
   "source": [
    "fiscal_membership = data_membership_s.merge( data_fiscal_cut,on=['LEAID'],how='left')"
   ]
  },
  {
   "cell_type": "code",
   "execution_count": 95,
   "metadata": {},
   "outputs": [],
   "source": [
    "fiscal_membership['has_cut'] = np.where(data_membership_s.LEAID.isin(data_fiscal_cut.LEAID), 'cut', 'no_cut')"
   ]
  },
  {
   "cell_type": "code",
   "execution_count": 96,
   "metadata": {},
   "outputs": [],
   "source": [
    "all_races = {'BL': 'Black','AM': 'American Indian/Alaska Native','HP': 'Hawaiian Native/Pacific Islander','AS': 'Asian','HI': 'Hispanic','WH': 'White','TR': 'Two or More Races',\n",
    "}"
   ]
  },
  {
   "cell_type": "code",
   "execution_count": 97,
   "metadata": {},
   "outputs": [
    {
     "data": {
      "image/png": "[encoded data removed]",
      "text/plain": [
       "<Figure size 432x288 with 1 Axes>"
      ]
     },
     "metadata": {},
     "output_type": "display_data"
    },
    {
     "data": {
      "image/png": "[encoded data removed]",
      "text/plain": [
       "<Figure size 432x288 with 1 Axes>"
      ]
     },
     "metadata": {},
     "output_type": "display_data"
    },
    {
     "data": {
      "image/png": "[encoded data removed]",
      "text/plain": [
       "<Figure size 432x288 with 1 Axes>"
      ]
     },
     "metadata": {},
     "output_type": "display_data"
    },
    {
     "data": {
      "image/png": "[encoded data removed]",
      "text/plain": [
       "<Figure size 432x288 with 1 Axes>"
      ]
     },
     "metadata": {},
     "output_type": "display_data"
    },
    {
     "data": {
      "image/png": "[encoded data removed]",
      "text/plain": [
       "<Figure size 432x288 with 1 Axes>"
      ]
     },
     "metadata": {},
     "output_type": "display_data"
    },
    {
     "data": {
      "image/png": "[encoded data removed]",
      "text/plain": [
       "<Figure size 432x288 with 1 Axes>"
      ]
     },
     "metadata": {},
     "output_type": "display_data"
    },
    {
     "data": {
      "image/png": "[encoded data removed]",
      "text/plain": [
       "<Figure size 432x288 with 1 Axes>"
      ]
     },
     "metadata": {},
     "output_type": "display_data"
    }
   ],
   "source": [
    "for each_race in ['AM', 'AS','HI', 'BL', 'WH', 'HP', 'TR']:\n",
    "    prop_name=each_race+'_PROP'\n",
    "    fig, ax = plt.subplots()\n",
    "    sns.boxplot(x=\"has_cut\", y=prop_name,hue=\"has_cut\", data=fiscal_membership,ax =ax)  # RUN PLOT  \n",
    "    plt.xlabel('Budget Cut', fontsize=15)\n",
    "    plt.ylabel('Proportion', fontsize=15)\n",
    "    plt.title('Proportion of enrolled students for '+all_races[each_race])\n",
    "    plt.show()\n",
    "\n",
    "    "
   ]
  },
  {
   "cell_type": "markdown",
   "metadata": {},
   "source": [
    "_For all races, distrubitions look mostly similar or vary only slightly by proportion of enrolled students .For Asian population , few districts with no budget cut has lesser proprtion of students than  districts with cuts.\n",
    "For the black population , districts under no budget cut have slightly high 75 percentile proportion than districts with budget cut._"
   ]
  },
  {
   "cell_type": "markdown",
   "metadata": {},
   "source": [
    "**Problem 3**"
   ]
  },
  {
   "cell_type": "code",
   "execution_count": 98,
   "metadata": {},
   "outputs": [],
   "source": [
    "disability_data=pd.read_csv('/Users/apoorvakasoju/Downloads/ccd_lea_002089_1516_w_1a_011717.csv')"
   ]
  },
  {
   "cell_type": "code",
   "execution_count": 99,
   "metadata": {},
   "outputs": [
    {
     "data": {
      "text/html": [
       "<div>\n",
       "<style scoped>\n",
       "    .dataframe tbody tr th:only-of-type {\n",
       "        vertical-align: middle;\n",
       "    }\n",
       "\n",
       "    .dataframe tbody tr th {\n",
       "        vertical-align: top;\n",
       "    }\n",
       "\n",
       "    .dataframe thead th {\n",
       "        text-align: right;\n",
       "    }\n",
       "</style>\n",
       "<table border=\"1\" class=\"dataframe\">\n",
       "  <thead>\n",
       "    <tr style=\"text-align: right;\">\n",
       "      <th></th>\n",
       "      <th>SURVYEAR</th>\n",
       "      <th>FIPST</th>\n",
       "      <th>STABR</th>\n",
       "      <th>STATENAME</th>\n",
       "      <th>SEANAME</th>\n",
       "      <th>LEAID</th>\n",
       "      <th>ST_LEAID</th>\n",
       "      <th>LEA_NAME</th>\n",
       "      <th>SPECED</th>\n",
       "    </tr>\n",
       "  </thead>\n",
       "  <tbody>\n",
       "    <tr>\n",
       "      <th>0</th>\n",
       "      <td>2015-2016</td>\n",
       "      <td>1</td>\n",
       "      <td>AL</td>\n",
       "      <td>ALABAMA</td>\n",
       "      <td>Alabama Department Of Education</td>\n",
       "      <td>100002</td>\n",
       "      <td>210</td>\n",
       "      <td>Alabama Youth Services</td>\n",
       "      <td>24</td>\n",
       "    </tr>\n",
       "    <tr>\n",
       "      <th>1</th>\n",
       "      <td>2015-2016</td>\n",
       "      <td>1</td>\n",
       "      <td>AL</td>\n",
       "      <td>ALABAMA</td>\n",
       "      <td>Alabama Department Of Education</td>\n",
       "      <td>100005</td>\n",
       "      <td>101</td>\n",
       "      <td>Albertville City</td>\n",
       "      <td>267</td>\n",
       "    </tr>\n",
       "    <tr>\n",
       "      <th>2</th>\n",
       "      <td>2015-2016</td>\n",
       "      <td>1</td>\n",
       "      <td>AL</td>\n",
       "      <td>ALABAMA</td>\n",
       "      <td>Alabama Department Of Education</td>\n",
       "      <td>100006</td>\n",
       "      <td>048</td>\n",
       "      <td>Marshall County</td>\n",
       "      <td>430</td>\n",
       "    </tr>\n",
       "    <tr>\n",
       "      <th>3</th>\n",
       "      <td>2015-2016</td>\n",
       "      <td>1</td>\n",
       "      <td>AL</td>\n",
       "      <td>ALABAMA</td>\n",
       "      <td>Alabama Department Of Education</td>\n",
       "      <td>100007</td>\n",
       "      <td>158</td>\n",
       "      <td>Hoover City</td>\n",
       "      <td>861</td>\n",
       "    </tr>\n",
       "    <tr>\n",
       "      <th>4</th>\n",
       "      <td>2015-2016</td>\n",
       "      <td>1</td>\n",
       "      <td>AL</td>\n",
       "      <td>ALABAMA</td>\n",
       "      <td>Alabama Department Of Education</td>\n",
       "      <td>100008</td>\n",
       "      <td>169</td>\n",
       "      <td>Madison City</td>\n",
       "      <td>735</td>\n",
       "    </tr>\n",
       "    <tr>\n",
       "      <th>5</th>\n",
       "      <td>2015-2016</td>\n",
       "      <td>1</td>\n",
       "      <td>AL</td>\n",
       "      <td>ALABAMA</td>\n",
       "      <td>Alabama Department Of Education</td>\n",
       "      <td>100009</td>\n",
       "      <td>600</td>\n",
       "      <td>Al Inst Deaf And Blind</td>\n",
       "      <td>280</td>\n",
       "    </tr>\n",
       "    <tr>\n",
       "      <th>6</th>\n",
       "      <td>2015-2016</td>\n",
       "      <td>1</td>\n",
       "      <td>AL</td>\n",
       "      <td>ALABAMA</td>\n",
       "      <td>Alabama Department Of Education</td>\n",
       "      <td>100011</td>\n",
       "      <td>167</td>\n",
       "      <td>Leeds City</td>\n",
       "      <td>171</td>\n",
       "    </tr>\n",
       "    <tr>\n",
       "      <th>7</th>\n",
       "      <td>2015-2016</td>\n",
       "      <td>1</td>\n",
       "      <td>AL</td>\n",
       "      <td>ALABAMA</td>\n",
       "      <td>Alabama Department Of Education</td>\n",
       "      <td>100012</td>\n",
       "      <td>115</td>\n",
       "      <td>Boaz City</td>\n",
       "      <td>120</td>\n",
       "    </tr>\n",
       "    <tr>\n",
       "      <th>8</th>\n",
       "      <td>2015-2016</td>\n",
       "      <td>1</td>\n",
       "      <td>AL</td>\n",
       "      <td>ALABAMA</td>\n",
       "      <td>Alabama Department Of Education</td>\n",
       "      <td>100013</td>\n",
       "      <td>205</td>\n",
       "      <td>Trussville City</td>\n",
       "      <td>213</td>\n",
       "    </tr>\n",
       "    <tr>\n",
       "      <th>9</th>\n",
       "      <td>2015-2016</td>\n",
       "      <td>1</td>\n",
       "      <td>AL</td>\n",
       "      <td>ALABAMA</td>\n",
       "      <td>Alabama Department Of Education</td>\n",
       "      <td>100015</td>\n",
       "      <td>602</td>\n",
       "      <td>SafetyNet Academy</td>\n",
       "      <td>30</td>\n",
       "    </tr>\n",
       "  </tbody>\n",
       "</table>\n",
       "</div>"
      ],
      "text/plain": [
       "    SURVYEAR  FIPST STABR STATENAME                          SEANAME   LEAID  \\\n",
       "0  2015-2016      1    AL   ALABAMA  Alabama Department Of Education  100002   \n",
       "1  2015-2016      1    AL   ALABAMA  Alabama Department Of Education  100005   \n",
       "2  2015-2016      1    AL   ALABAMA  Alabama Department Of Education  100006   \n",
       "3  2015-2016      1    AL   ALABAMA  Alabama Department Of Education  100007   \n",
       "4  2015-2016      1    AL   ALABAMA  Alabama Department Of Education  100008   \n",
       "5  2015-2016      1    AL   ALABAMA  Alabama Department Of Education  100009   \n",
       "6  2015-2016      1    AL   ALABAMA  Alabama Department Of Education  100011   \n",
       "7  2015-2016      1    AL   ALABAMA  Alabama Department Of Education  100012   \n",
       "8  2015-2016      1    AL   ALABAMA  Alabama Department Of Education  100013   \n",
       "9  2015-2016      1    AL   ALABAMA  Alabama Department Of Education  100015   \n",
       "\n",
       "  ST_LEAID                LEA_NAME  SPECED  \n",
       "0      210  Alabama Youth Services      24  \n",
       "1      101        Albertville City     267  \n",
       "2      048         Marshall County     430  \n",
       "3      158             Hoover City     861  \n",
       "4      169            Madison City     735  \n",
       "5      600  Al Inst Deaf And Blind     280  \n",
       "6      167              Leeds City     171  \n",
       "7      115               Boaz City     120  \n",
       "8      205         Trussville City     213  \n",
       "9      602       SafetyNet Academy      30  "
      ]
     },
     "execution_count": 99,
     "metadata": {},
     "output_type": "execute_result"
    }
   ],
   "source": [
    "disability_data.head(10)"
   ]
  },
  {
   "cell_type": "code",
   "execution_count": 100,
   "metadata": {},
   "outputs": [],
   "source": [
    "fiscal_membership=fiscal_membership[(fiscal_membership.TOTAL>0)]"
   ]
  },
  {
   "cell_type": "code",
   "execution_count": 101,
   "metadata": {},
   "outputs": [],
   "source": [
    "disability_fiscal=fiscal_membership.merge(disability_data,on='LEAID',how='left')"
   ]
  },
  {
   "cell_type": "code",
   "execution_count": 102,
   "metadata": {},
   "outputs": [],
   "source": [
    "disability_fiscal['SPECED'].fillna(0, inplace=True)"
   ]
  },
  {
   "cell_type": "code",
   "execution_count": 103,
   "metadata": {},
   "outputs": [],
   "source": [
    "disability_fiscal=disability_fiscal[(disability_fiscal.TOTAL>0) & (disability_fiscal.SPECED>0)]\n",
    "disability_fiscal=disability_fiscal.assign(disability_prop=lambda x: disability_fiscal.SPECED/disability_fiscal.TOTAL)"
   ]
  },
  {
   "cell_type": "code",
   "execution_count": 104,
   "metadata": {},
   "outputs": [
    {
     "data": {
      "text/html": [
       "<div>\n",
       "<style scoped>\n",
       "    .dataframe tbody tr th:only-of-type {\n",
       "        vertical-align: middle;\n",
       "    }\n",
       "\n",
       "    .dataframe tbody tr th {\n",
       "        vertical-align: top;\n",
       "    }\n",
       "\n",
       "    .dataframe thead th {\n",
       "        text-align: right;\n",
       "    }\n",
       "</style>\n",
       "<table border=\"1\" class=\"dataframe\">\n",
       "  <thead>\n",
       "    <tr style=\"text-align: right;\">\n",
       "      <th></th>\n",
       "      <th>STATENAME_x</th>\n",
       "      <th>LEAID</th>\n",
       "      <th>TOTAL</th>\n",
       "      <th>AM</th>\n",
       "      <th>AS</th>\n",
       "      <th>HI</th>\n",
       "      <th>BL</th>\n",
       "      <th>WH</th>\n",
       "      <th>HP</th>\n",
       "      <th>TR</th>\n",
       "      <th>...</th>\n",
       "      <th>has_cut</th>\n",
       "      <th>SURVYEAR</th>\n",
       "      <th>FIPST</th>\n",
       "      <th>STABR</th>\n",
       "      <th>STATENAME_y</th>\n",
       "      <th>SEANAME</th>\n",
       "      <th>ST_LEAID</th>\n",
       "      <th>LEA_NAME</th>\n",
       "      <th>SPECED</th>\n",
       "      <th>disability_prop</th>\n",
       "    </tr>\n",
       "  </thead>\n",
       "  <tbody>\n",
       "    <tr>\n",
       "      <th>0</th>\n",
       "      <td>ALABAMA</td>\n",
       "      <td>100005</td>\n",
       "      <td>5214</td>\n",
       "      <td>14</td>\n",
       "      <td>17</td>\n",
       "      <td>2289</td>\n",
       "      <td>152</td>\n",
       "      <td>2619</td>\n",
       "      <td>4</td>\n",
       "      <td>119</td>\n",
       "      <td>...</td>\n",
       "      <td>cut</td>\n",
       "      <td>2015-2016</td>\n",
       "      <td>1</td>\n",
       "      <td>AL</td>\n",
       "      <td>ALABAMA</td>\n",
       "      <td>Alabama Department Of Education</td>\n",
       "      <td>101</td>\n",
       "      <td>Albertville City</td>\n",
       "      <td>267</td>\n",
       "      <td>0.051208</td>\n",
       "    </tr>\n",
       "    <tr>\n",
       "      <th>1</th>\n",
       "      <td>ALABAMA</td>\n",
       "      <td>100006</td>\n",
       "      <td>5635</td>\n",
       "      <td>26</td>\n",
       "      <td>17</td>\n",
       "      <td>1160</td>\n",
       "      <td>50</td>\n",
       "      <td>4331</td>\n",
       "      <td>2</td>\n",
       "      <td>49</td>\n",
       "      <td>...</td>\n",
       "      <td>cut</td>\n",
       "      <td>2015-2016</td>\n",
       "      <td>1</td>\n",
       "      <td>AL</td>\n",
       "      <td>ALABAMA</td>\n",
       "      <td>Alabama Department Of Education</td>\n",
       "      <td>048</td>\n",
       "      <td>Marshall County</td>\n",
       "      <td>430</td>\n",
       "      <td>0.076309</td>\n",
       "    </tr>\n",
       "    <tr>\n",
       "      <th>2</th>\n",
       "      <td>ALABAMA</td>\n",
       "      <td>100007</td>\n",
       "      <td>13910</td>\n",
       "      <td>10</td>\n",
       "      <td>931</td>\n",
       "      <td>1008</td>\n",
       "      <td>3541</td>\n",
       "      <td>8131</td>\n",
       "      <td>14</td>\n",
       "      <td>275</td>\n",
       "      <td>...</td>\n",
       "      <td>cut</td>\n",
       "      <td>2015-2016</td>\n",
       "      <td>1</td>\n",
       "      <td>AL</td>\n",
       "      <td>ALABAMA</td>\n",
       "      <td>Alabama Department Of Education</td>\n",
       "      <td>158</td>\n",
       "      <td>Hoover City</td>\n",
       "      <td>861</td>\n",
       "      <td>0.061898</td>\n",
       "    </tr>\n",
       "    <tr>\n",
       "      <th>3</th>\n",
       "      <td>ALABAMA</td>\n",
       "      <td>100008</td>\n",
       "      <td>10011</td>\n",
       "      <td>62</td>\n",
       "      <td>862</td>\n",
       "      <td>439</td>\n",
       "      <td>2042</td>\n",
       "      <td>6186</td>\n",
       "      <td>27</td>\n",
       "      <td>393</td>\n",
       "      <td>...</td>\n",
       "      <td>cut</td>\n",
       "      <td>2015-2016</td>\n",
       "      <td>1</td>\n",
       "      <td>AL</td>\n",
       "      <td>ALABAMA</td>\n",
       "      <td>Alabama Department Of Education</td>\n",
       "      <td>169</td>\n",
       "      <td>Madison City</td>\n",
       "      <td>735</td>\n",
       "      <td>0.073419</td>\n",
       "    </tr>\n",
       "    <tr>\n",
       "      <th>4</th>\n",
       "      <td>ALABAMA</td>\n",
       "      <td>100011</td>\n",
       "      <td>1905</td>\n",
       "      <td>2</td>\n",
       "      <td>13</td>\n",
       "      <td>241</td>\n",
       "      <td>433</td>\n",
       "      <td>1148</td>\n",
       "      <td>5</td>\n",
       "      <td>63</td>\n",
       "      <td>...</td>\n",
       "      <td>cut</td>\n",
       "      <td>2015-2016</td>\n",
       "      <td>1</td>\n",
       "      <td>AL</td>\n",
       "      <td>ALABAMA</td>\n",
       "      <td>Alabama Department Of Education</td>\n",
       "      <td>167</td>\n",
       "      <td>Leeds City</td>\n",
       "      <td>171</td>\n",
       "      <td>0.089764</td>\n",
       "    </tr>\n",
       "    <tr>\n",
       "      <th>5</th>\n",
       "      <td>ALABAMA</td>\n",
       "      <td>100012</td>\n",
       "      <td>2310</td>\n",
       "      <td>9</td>\n",
       "      <td>15</td>\n",
       "      <td>639</td>\n",
       "      <td>28</td>\n",
       "      <td>1535</td>\n",
       "      <td>11</td>\n",
       "      <td>73</td>\n",
       "      <td>...</td>\n",
       "      <td>cut</td>\n",
       "      <td>2015-2016</td>\n",
       "      <td>1</td>\n",
       "      <td>AL</td>\n",
       "      <td>ALABAMA</td>\n",
       "      <td>Alabama Department Of Education</td>\n",
       "      <td>115</td>\n",
       "      <td>Boaz City</td>\n",
       "      <td>120</td>\n",
       "      <td>0.051948</td>\n",
       "    </tr>\n",
       "    <tr>\n",
       "      <th>6</th>\n",
       "      <td>ALABAMA</td>\n",
       "      <td>100013</td>\n",
       "      <td>4456</td>\n",
       "      <td>7</td>\n",
       "      <td>100</td>\n",
       "      <td>54</td>\n",
       "      <td>487</td>\n",
       "      <td>3741</td>\n",
       "      <td>0</td>\n",
       "      <td>67</td>\n",
       "      <td>...</td>\n",
       "      <td>cut</td>\n",
       "      <td>2015-2016</td>\n",
       "      <td>1</td>\n",
       "      <td>AL</td>\n",
       "      <td>ALABAMA</td>\n",
       "      <td>Alabama Department Of Education</td>\n",
       "      <td>205</td>\n",
       "      <td>Trussville City</td>\n",
       "      <td>213</td>\n",
       "      <td>0.047801</td>\n",
       "    </tr>\n",
       "    <tr>\n",
       "      <th>7</th>\n",
       "      <td>ALABAMA</td>\n",
       "      <td>100030</td>\n",
       "      <td>3102</td>\n",
       "      <td>1</td>\n",
       "      <td>29</td>\n",
       "      <td>177</td>\n",
       "      <td>1211</td>\n",
       "      <td>1609</td>\n",
       "      <td>2</td>\n",
       "      <td>73</td>\n",
       "      <td>...</td>\n",
       "      <td>cut</td>\n",
       "      <td>2015-2016</td>\n",
       "      <td>1</td>\n",
       "      <td>AL</td>\n",
       "      <td>ALABAMA</td>\n",
       "      <td>Alabama Department Of Education</td>\n",
       "      <td>102</td>\n",
       "      <td>Alexander City</td>\n",
       "      <td>310</td>\n",
       "      <td>0.099936</td>\n",
       "    </tr>\n",
       "    <tr>\n",
       "      <th>8</th>\n",
       "      <td>ALABAMA</td>\n",
       "      <td>100060</td>\n",
       "      <td>1745</td>\n",
       "      <td>3</td>\n",
       "      <td>26</td>\n",
       "      <td>34</td>\n",
       "      <td>561</td>\n",
       "      <td>1085</td>\n",
       "      <td>0</td>\n",
       "      <td>36</td>\n",
       "      <td>...</td>\n",
       "      <td>cut</td>\n",
       "      <td>2015-2016</td>\n",
       "      <td>1</td>\n",
       "      <td>AL</td>\n",
       "      <td>ALABAMA</td>\n",
       "      <td>Alabama Department Of Education</td>\n",
       "      <td>104</td>\n",
       "      <td>Andalusia City</td>\n",
       "      <td>155</td>\n",
       "      <td>0.088825</td>\n",
       "    </tr>\n",
       "    <tr>\n",
       "      <th>9</th>\n",
       "      <td>ALABAMA</td>\n",
       "      <td>100090</td>\n",
       "      <td>2099</td>\n",
       "      <td>1</td>\n",
       "      <td>2</td>\n",
       "      <td>60</td>\n",
       "      <td>1893</td>\n",
       "      <td>108</td>\n",
       "      <td>0</td>\n",
       "      <td>35</td>\n",
       "      <td>...</td>\n",
       "      <td>cut</td>\n",
       "      <td>2015-2016</td>\n",
       "      <td>1</td>\n",
       "      <td>AL</td>\n",
       "      <td>ALABAMA</td>\n",
       "      <td>Alabama Department Of Education</td>\n",
       "      <td>105</td>\n",
       "      <td>Anniston City</td>\n",
       "      <td>143</td>\n",
       "      <td>0.068128</td>\n",
       "    </tr>\n",
       "  </tbody>\n",
       "</table>\n",
       "<p>10 rows × 31 columns</p>\n",
       "</div>"
      ],
      "text/plain": [
       "  STATENAME_x   LEAID  TOTAL  AM   AS    HI    BL    WH  HP   TR  ...  \\\n",
       "0     ALABAMA  100005   5214  14   17  2289   152  2619   4  119  ...   \n",
       "1     ALABAMA  100006   5635  26   17  1160    50  4331   2   49  ...   \n",
       "2     ALABAMA  100007  13910  10  931  1008  3541  8131  14  275  ...   \n",
       "3     ALABAMA  100008  10011  62  862   439  2042  6186  27  393  ...   \n",
       "4     ALABAMA  100011   1905   2   13   241   433  1148   5   63  ...   \n",
       "5     ALABAMA  100012   2310   9   15   639    28  1535  11   73  ...   \n",
       "6     ALABAMA  100013   4456   7  100    54   487  3741   0   67  ...   \n",
       "7     ALABAMA  100030   3102   1   29   177  1211  1609   2   73  ...   \n",
       "8     ALABAMA  100060   1745   3   26    34   561  1085   0   36  ...   \n",
       "9     ALABAMA  100090   2099   1    2    60  1893   108   0   35  ...   \n",
       "\n",
       "   has_cut   SURVYEAR  FIPST  STABR  STATENAME_y  \\\n",
       "0      cut  2015-2016      1     AL      ALABAMA   \n",
       "1      cut  2015-2016      1     AL      ALABAMA   \n",
       "2      cut  2015-2016      1     AL      ALABAMA   \n",
       "3      cut  2015-2016      1     AL      ALABAMA   \n",
       "4      cut  2015-2016      1     AL      ALABAMA   \n",
       "5      cut  2015-2016      1     AL      ALABAMA   \n",
       "6      cut  2015-2016      1     AL      ALABAMA   \n",
       "7      cut  2015-2016      1     AL      ALABAMA   \n",
       "8      cut  2015-2016      1     AL      ALABAMA   \n",
       "9      cut  2015-2016      1     AL      ALABAMA   \n",
       "\n",
       "                           SEANAME  ST_LEAID          LEA_NAME  SPECED  \\\n",
       "0  Alabama Department Of Education       101  Albertville City     267   \n",
       "1  Alabama Department Of Education       048   Marshall County     430   \n",
       "2  Alabama Department Of Education       158       Hoover City     861   \n",
       "3  Alabama Department Of Education       169      Madison City     735   \n",
       "4  Alabama Department Of Education       167        Leeds City     171   \n",
       "5  Alabama Department Of Education       115         Boaz City     120   \n",
       "6  Alabama Department Of Education       205   Trussville City     213   \n",
       "7  Alabama Department Of Education       102    Alexander City     310   \n",
       "8  Alabama Department Of Education       104    Andalusia City     155   \n",
       "9  Alabama Department Of Education       105     Anniston City     143   \n",
       "\n",
       "   disability_prop  \n",
       "0         0.051208  \n",
       "1         0.076309  \n",
       "2         0.061898  \n",
       "3         0.073419  \n",
       "4         0.089764  \n",
       "5         0.051948  \n",
       "6         0.047801  \n",
       "7         0.099936  \n",
       "8         0.088825  \n",
       "9         0.068128  \n",
       "\n",
       "[10 rows x 31 columns]"
      ]
     },
     "execution_count": 104,
     "metadata": {},
     "output_type": "execute_result"
    }
   ],
   "source": [
    "disability_fiscal.head(10)"
   ]
  },
  {
   "cell_type": "code",
   "execution_count": 105,
   "metadata": {},
   "outputs": [
    {
     "data": {
      "image/png": "[encoded data removed]",
      "text/plain": [
       "<Figure size 432x288 with 1 Axes>"
      ]
     },
     "metadata": {},
     "output_type": "display_data"
    }
   ],
   "source": [
    "\n",
    "\n",
    "fig, ax = plt.subplots()\n",
    "sns.boxplot(x=\"has_cut\", y=prop_name,hue=\"has_cut\", data=disability_fiscal,ax =ax)  # RUN PLOT  \n",
    "plt.xlabel('Budget Cut', fontsize=15)\n",
    "plt.ylabel('Proportion ', fontsize=15)\n",
    "plt.title('Proportion of enrolled students with disability status' )\n",
    "plt.show()"
   ]
  },
  {
   "cell_type": "markdown",
   "metadata": {},
   "source": [
    "_As we can the distrubtion of proportion of enrolled students for districts with cut and without is almost similar.For Districts without cut ,some districts are higher proportion than districts with cut in the higher end of the whisker_"
   ]
  },
  {
   "cell_type": "markdown",
   "metadata": {},
   "source": [
    "**Problem 4**"
   ]
  },
  {
   "cell_type": "markdown",
   "metadata": {},
   "source": [
    "\n",
    "_For this question , I chose to critique on the strategy used by Manvita Markala.They identified states that have a surplus amount (Total Revenue - Total Expenditure) that is high enough and in turn also higher than the individual states' federal revenue itself and pulled this amount worth the federal revenue from those states until it reaches 8340411300.0.\n",
    "It is interesting and sensible to penalize those states which have surplus, as it does not hurt any of their expenditure .\n",
    "In fact , i realized this to be more fair enough than the strategy i employed (i.e., cut the revenue proportional to the federal revenue that each school district is receieving) , where I missed the point that those districts that are receieving high federal revenue might well have  proportional expenditure to support themselves and but this strategy is not as unfair as of uniform cuts across all school districts but does not take expenditure into account._\n"
   ]
  },
  {
   "cell_type": "markdown",
   "metadata": {},
   "source": [
    "**Problem 5**"
   ]
  },
  {
   "cell_type": "markdown",
   "metadata": {},
   "source": [
    "I want to talk about MapReduce+Hadoop special topic lecture . As i have taken this course last year, I could not understand the concepts discussed as well as to revise the basic concepts like architecture,filesystem.\n",
    "As we always just not build the models but built models that are also scalable , knowing these concepts helped me in my academic projects ."
   ]
  }
 ],
 "metadata": {
  "kernelspec": {
   "display_name": "Python 3",
   "language": "python",
   "name": "python3"
  },
  "language_info": {
   "codemirror_mode": {
    "name": "ipython",
    "version": 3
   },
   "file_extension": ".py",
   "mimetype": "text/x-python",
   "name": "python",
   "nbconvert_exporter": "python",
   "pygments_lexer": "ipython3",
   "version": "3.6.5"
  }
 },
 "nbformat": 4,
 "nbformat_minor": 2
}
